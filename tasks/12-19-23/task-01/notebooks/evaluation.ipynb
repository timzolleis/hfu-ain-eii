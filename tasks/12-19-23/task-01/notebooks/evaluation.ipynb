{
 "cells": [
  {
   "cell_type": "code",
   "execution_count": 1,
   "id": "d810fd1e-e042-46dc-b928-49a8ac65c8e7",
   "metadata": {},
   "outputs": [],
   "source": [
    "import torch\n",
    "import torch.nn as nn\n",
    "import torch.nn.functional as F\n",
    "import torchvision\n",
    "import torchvision.transforms as transforms"
   ]
  },
  {
   "cell_type": "code",
   "execution_count": 2,
   "id": "d3a52a6b-72f8-4897-8c43-a7537888ff04",
   "metadata": {},
   "outputs": [],
   "source": [
    "class MNet(nn.Module):\n",
    "    def __init__(self):\n",
    "        super(MNet, self).__init__()\n",
    "        # First layer: 784 input features (28x28 pixels), 128 output features\n",
    "        self.fc1 = nn.Linear(784, 128)\n",
    "        \n",
    "        # Second layer: 128 input features, 64 output features\n",
    "        self.fc2 = nn.Linear(128, 64)\n",
    "        \n",
    "        # Output layer: 64 input features, 10 output features (for 10 classes)\n",
    "        self.fc3 = nn.Linear(64, 10)\n",
    "\n",
    "    def forward(self, x):\n",
    "        # Flatten the image\n",
    "        x = x.view(-1, 28*28)\n",
    "        \n",
    "        # Apply ReLU activation function after each hidden layer\n",
    "        x = F.relu(self.fc1(x))\n",
    "        x = F.relu(self.fc2(x))\n",
    "        \n",
    "        # No activation function needed for the output layer\n",
    "        x = self.fc3(x)\n",
    "        \n",
    "        # Applying log_softmax for classification purposes\n",
    "        return F.log_softmax(x, dim=1)"
   ]
  },
  {
   "cell_type": "code",
   "execution_count": 6,
   "id": "7c03bc0c-9940-4ad2-8aac-cb8bb7801b31",
   "metadata": {},
   "outputs": [],
   "source": [
    "def evaluate(epoch, model):\n",
    "    correct = 0\n",
    "    total = 0\n",
    "    with torch.no_grad():\n",
    "        for images, labels in test_loader:\n",
    "            outputs = model(images)\n",
    "            _, predicted = torch.max(outputs.data, 1)\n",
    "            total += labels.size(0)\n",
    "            correct += (predicted == labels).sum().item()\n",
    "    accuracy = 100 * correct / total\n",
    "    print(f'Accuracy of the model on the MNIST test images after {epoch + 1} epochs: {accuracy}%')"
   ]
  },
  {
   "cell_type": "code",
   "execution_count": 7,
   "id": "756f9cc0-a74f-4914-a272-ed94577c949a",
   "metadata": {},
   "outputs": [
    {
     "name": "stdout",
     "output_type": "stream",
     "text": [
      "Accuracy of the model on the MNIST test images after 1 epochs: 93.7%\n",
      "Accuracy of the model on the MNIST test images after 2 epochs: 95.48%\n",
      "Accuracy of the model on the MNIST test images after 3 epochs: 96.14%\n",
      "Accuracy of the model on the MNIST test images after 4 epochs: 96.89%\n",
      "Accuracy of the model on the MNIST test images after 5 epochs: 96.3%\n",
      "Accuracy of the model on the MNIST test images after 6 epochs: 96.46%\n",
      "Accuracy of the model on the MNIST test images after 7 epochs: 97.03%\n",
      "Accuracy of the model on the MNIST test images after 8 epochs: 96.92%\n",
      "Accuracy of the model on the MNIST test images after 9 epochs: 96.48%\n",
      "Accuracy of the model on the MNIST test images after 10 epochs: 97.17%\n",
      "Evaluation done\n"
     ]
    }
   ],
   "source": [
    "\n",
    "transform = transforms.Compose([transforms.ToTensor(),\n",
    "                                transforms.Normalize((0.5,), (0.5,))])\n",
    "test_set = torchvision.datasets.MNIST(root='./data', train=False, download=True, transform=transform)\n",
    "test_loader = torch.utils.data.DataLoader(test_set, batch_size=64, shuffle=False)\n",
    "\n",
    "for epoch in range(10):\n",
    "    epoch_name = f'epoch_{epoch}.pth'\n",
    "    model = MNet()\n",
    "    model.load_state_dict(torch.load(epoch_name))\n",
    "    model.eval()\n",
    "    evaluate(epoch, model)\n",
    "\n",
    "print('Evaluation done')\n"
   ]
  },
  {
   "cell_type": "code",
   "execution_count": null,
   "id": "43273398-cbdf-4185-8803-2890203716c7",
   "metadata": {},
   "outputs": [],
   "source": []
  }
 ],
 "metadata": {
  "kernelspec": {
   "display_name": "Python 3 (ipykernel)",
   "language": "python",
   "name": "python3"
  },
  "language_info": {
   "codemirror_mode": {
    "name": "ipython",
    "version": 3
   },
   "file_extension": ".py",
   "mimetype": "text/x-python",
   "name": "python",
   "nbconvert_exporter": "python",
   "pygments_lexer": "ipython3",
   "version": "3.11.6"
  }
 },
 "nbformat": 4,
 "nbformat_minor": 5
}
